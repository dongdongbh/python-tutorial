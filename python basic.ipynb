{
 "cells": [
  {
   "cell_type": "markdown",
   "metadata": {},
   "source": [
    "# python basic\n",
    "for code style, please ref [google python style guide](http://google.github.io/styleguide/pyguide.html) and [cn_version](https://zh-google-styleguide.readthedocs.io/en/latest/)"
   ]
  },
  {
   "cell_type": "markdown",
   "metadata": {
    "toc": true
   },
   "source": [
    "<h1>Table of Contents<span class=\"tocSkip\"></span></h1>\n",
    "<div class=\"toc\"><ul class=\"toc-item\"><li><span><a href=\"#Variables\" data-toc-modified-id=\"Variables-1\"><span class=\"toc-item-num\">1&nbsp;&nbsp;</span>Variables</a></span></li><li><span><a href=\"#Control-flow-if\" data-toc-modified-id=\"Control-flow-if-2\"><span class=\"toc-item-num\">2&nbsp;&nbsp;</span>Control flow if</a></span></li><li><span><a href=\"#loop\" data-toc-modified-id=\"loop-3\"><span class=\"toc-item-num\">3&nbsp;&nbsp;</span>loop</a></span></li><li><span><a href=\"#list\" data-toc-modified-id=\"list-4\"><span class=\"toc-item-num\">4&nbsp;&nbsp;</span>list</a></span><ul class=\"toc-item\"><li><span><a href=\"#loop\" data-toc-modified-id=\"loop-4.1\"><span class=\"toc-item-num\">4.1&nbsp;&nbsp;</span>loop</a></span></li><li><span><a href=\"#Slicing\" data-toc-modified-id=\"Slicing-4.2\"><span class=\"toc-item-num\">4.2&nbsp;&nbsp;</span>Slicing</a></span></li></ul></li><li><span><a href=\"#Dictionary\" data-toc-modified-id=\"Dictionary-5\"><span class=\"toc-item-num\">5&nbsp;&nbsp;</span>Dictionary</a></span></li><li><span><a href=\"#Sets\" data-toc-modified-id=\"Sets-6\"><span class=\"toc-item-num\">6&nbsp;&nbsp;</span>Sets</a></span><ul class=\"toc-item\"><li><span><a href=\"#loop\" data-toc-modified-id=\"loop-6.1\"><span class=\"toc-item-num\">6.1&nbsp;&nbsp;</span>loop</a></span></li></ul></li><li><span><a href=\"#Tuples\" data-toc-modified-id=\"Tuples-7\"><span class=\"toc-item-num\">7&nbsp;&nbsp;</span>Tuples</a></span></li><li><span><a href=\"#Iteration\" data-toc-modified-id=\"Iteration-8\"><span class=\"toc-item-num\">8&nbsp;&nbsp;</span>Iteration</a></span></li><li><span><a href=\"#class&amp;object\" data-toc-modified-id=\"class&amp;object-9\"><span class=\"toc-item-num\">9&nbsp;&nbsp;</span>class&amp;object</a></span><ul class=\"toc-item\"><li><span><a href=\"#Encapsulation\" data-toc-modified-id=\"Encapsulation-9.1\"><span class=\"toc-item-num\">9.1&nbsp;&nbsp;</span>Encapsulation</a></span></li><li><span><a href=\"#Inheritance\" data-toc-modified-id=\"Inheritance-9.2\"><span class=\"toc-item-num\">9.2&nbsp;&nbsp;</span>Inheritance</a></span></li></ul></li><li><span><a href=\"#Copy\" data-toc-modified-id=\"Copy-10\"><span class=\"toc-item-num\">10&nbsp;&nbsp;</span>Copy</a></span></li></ul></div>"
   ]
  },
  {
   "cell_type": "markdown",
   "metadata": {},
   "source": [
    "## Variables"
   ]
  },
  {
   "cell_type": "code",
   "execution_count": 3,
   "metadata": {},
   "outputs": [],
   "source": [
    "\n",
    "one =  1\n",
    "true_boolean = True\n",
    "False_boolean = False\n",
    "\n",
    "# string\n",
    "my_name = \"test python\"\n",
    "\n",
    "# float\n",
    "book_price = 15.80"
   ]
  },
  {
   "cell_type": "markdown",
   "metadata": {},
   "source": [
    "## Control flow if"
   ]
  },
  {
   "cell_type": "code",
   "execution_count": 5,
   "metadata": {},
   "outputs": [
    {
     "name": "stdout",
     "output_type": "stream",
     "text": [
      "Hello Python If\n",
      "2 is greater than 1\n"
     ]
    }
   ],
   "source": [
    "if True:\n",
    "    print(\"Hello Python If\")\n",
    "    \n",
    "if 2>1:\n",
    "    print(\"2 is greater than 1\")\n",
    "elif 1>2:\n",
    "    print(\"2 is not greater than 1\")\n",
    "else:\n",
    "    print(\"2 is equal to 1\")"
   ]
  },
  {
   "cell_type": "markdown",
   "metadata": {},
   "source": [
    "## loop"
   ]
  },
  {
   "cell_type": "code",
   "execution_count": 11,
   "metadata": {
    "collapsed": true
   },
   "outputs": [
    {
     "name": "stdout",
     "output_type": "stream",
     "text": [
      "1\n",
      "2\n",
      "3\n",
      "4\n",
      "5\n",
      "6\n",
      "7\n",
      "8\n",
      "9\n",
      "10\n",
      "Loop Condition keeps: True\n",
      "1\n",
      "2\n",
      "3\n",
      "4\n",
      "5\n",
      "6\n",
      "7\n",
      "8\n",
      "9\n",
      "10\n"
     ]
    }
   ],
   "source": [
    "num = 1\n",
    "\n",
    "while num <= 10:\n",
    "    print(num)\n",
    "    num+=1\n",
    "    \n",
    "loop_condition  =True\n",
    "while loop_condition:\n",
    "    print(\"Loop Condition keeps: %s\" %(loop_condition))\n",
    "    loop_condition = False\n",
    "       \n",
    "for i in range(1,11):\n",
    "    print(i)"
   ]
  },
  {
   "cell_type": "markdown",
   "metadata": {},
   "source": [
    "## list\n",
    "A list is the Python equivalent of an array, but is resizeable and can contain elements of different types:"
   ]
  },
  {
   "cell_type": "code",
   "execution_count": 15,
   "metadata": {},
   "outputs": [
    {
     "name": "stdout",
     "output_type": "stream",
     "text": [
      "1\n",
      "2\n",
      "5\n",
      "Kaio\n",
      "The Effective Engineer\n",
      "The 4 Hour Work Week\n"
     ]
    }
   ],
   "source": [
    "my_intergers = [1,2,3,4,5]\n",
    "print(my_intergers[0])\n",
    "print(my_intergers[1])\n",
    "print(my_intergers[4])\n",
    "\n",
    "relatives_names = [\n",
    "    \"Toshiali\",\n",
    "    \"Juliana\",\n",
    "    \"Yuji\",\n",
    "    \"Bruno\",\n",
    "    \"Kaio\"\n",
    "]\n",
    "print(relatives_names[4])\n",
    "\n",
    "bookshelf = []\n",
    "bookshelf.append(\"The Effective Engineer\")\n",
    "bookshelf.append(\"The 4 Hour Work Week\")\n",
    "print(bookshelf[0])\n",
    "print(bookshelf[1])"
   ]
  },
  {
   "cell_type": "markdown",
   "metadata": {},
   "source": [
    "### loop"
   ]
  },
  {
   "cell_type": "code",
   "execution_count": 7,
   "metadata": {},
   "outputs": [
    {
     "name": "stdout",
     "output_type": "stream",
     "text": [
      "#1: cat\n",
      "#2: dog\n",
      "#3: monkey\n"
     ]
    }
   ],
   "source": [
    "animals = ['cat', 'dog', 'monkey']\n",
    "for idx, animal in enumerate(animals):\n",
    "    print('#%d: %s' % (idx + 1, animal))"
   ]
  },
  {
   "cell_type": "markdown",
   "metadata": {},
   "source": [
    "### Slicing"
   ]
  },
  {
   "cell_type": "code",
   "execution_count": 1,
   "metadata": {},
   "outputs": [
    {
     "name": "stdout",
     "output_type": "stream",
     "text": [
      "[3, 1, 2] 2\n",
      "2\n",
      "[3, 1, 'foo']\n",
      "[3, 1, 'foo', 'bar']\n",
      "bar [3, 1, 'foo']\n"
     ]
    }
   ],
   "source": [
    "xs = [3, 1, 2]\n",
    "print(xs, xs[2])\n",
    "print(xs[-1])\n",
    "xs[2] = 'foo'\n",
    "print(xs)\n",
    "xs.append('bar')\n",
    "print(xs)\n",
    "x = xs.pop()\n",
    "print(x, xs)"
   ]
  },
  {
   "cell_type": "markdown",
   "metadata": {},
   "source": [
    "## Dictionary\n",
    "A dictionary stores (key, value) pairs"
   ]
  },
  {
   "cell_type": "code",
   "execution_count": 22,
   "metadata": {},
   "outputs": [
    {
     "name": "stdout",
     "output_type": "stream",
     "text": [
      "My name is dd\n",
      "And you can call me bh\n",
      "And by the way I'm Chinese\n",
      "{'name': 'dd', 'nickname': 'bh', 'nationality': 'Chinese', 'age': 26}\n"
     ]
    }
   ],
   "source": [
    "dictionary_example = {\n",
    "    \"key1\": \"value1\",\n",
    "    \"key2\": \"value2\",\n",
    "    \"key2\": \"value3\"\n",
    "}\n",
    "\n",
    "dictionary_bh = {\n",
    "    \"name\": \"dd\",\n",
    "    \"nickname\": \"bh\",\n",
    "    \"nationality\": \"Chinese\"\n",
    "}\n",
    "\n",
    "print(\"My name is %s\" %(dictionary_bh[\"name\"]))\n",
    "print(\"And you can call me %s\" %(dictionary_bh[\"nickname\"]))\n",
    "print(\"And by the way I'm %s\" %(dictionary_bh[\"nationality\"]))\n",
    "\n",
    "dictionary_bh['age'] = 26\n",
    "\n",
    "print(dictionary_bh)"
   ]
  },
  {
   "cell_type": "markdown",
   "metadata": {},
   "source": [
    "## Sets\n",
    "A set is an unordered collection of distinct elements"
   ]
  },
  {
   "cell_type": "code",
   "execution_count": 3,
   "metadata": {},
   "outputs": [
    {
     "name": "stdout",
     "output_type": "stream",
     "text": [
      "True\n",
      "False\n",
      "True\n",
      "3\n",
      "3\n",
      "2\n"
     ]
    }
   ],
   "source": [
    "animals = {'cat', 'dog'}\n",
    "print('cat' in animals)\n",
    "print('fish' in animals)\n",
    "animals.add('fish')\n",
    "print('fish' in animals)\n",
    "print(len(animals))\n",
    "animals.add('cat') # already in set do nothing\n",
    "print(len(animals))\n",
    "animals.remove('cat')\n",
    "print(len(animals))"
   ]
  },
  {
   "cell_type": "markdown",
   "metadata": {},
   "source": [
    "### loop"
   ]
  },
  {
   "cell_type": "code",
   "execution_count": 4,
   "metadata": {},
   "outputs": [
    {
     "name": "stdout",
     "output_type": "stream",
     "text": [
      "#1: cat\n",
      "#2: dog\n",
      "#3: fish\n"
     ]
    }
   ],
   "source": [
    "animals = {'cat', 'dog', 'fish'}\n",
    "for idx, animal in enumerate(animals):\n",
    "    print('#%d: %s' % (idx + 1, animal))"
   ]
  },
  {
   "cell_type": "markdown",
   "metadata": {},
   "source": [
    "## Tuples\n",
    "A tuple is an (immutable) ordered list of values. A tuple is in many ways similar to a list; one of the most important differences is that tuples can be used as keys in dictionaries and as elements of sets, while lists cannot. Here is a trivial example:"
   ]
  },
  {
   "cell_type": "code",
   "execution_count": 14,
   "metadata": {},
   "outputs": [
    {
     "name": "stdout",
     "output_type": "stream",
     "text": [
      "{(0, 1): 0, (1, 2): 1, (2, 3): 2, (3, 4): 3, (4, 5): 4, (5, 6): 5, (6, 7): 6, (7, 8): 7, (8, 9): 8, (9, 10): 9}\n",
      "(5, 6)\n",
      "<class 'tuple'>\n",
      "5\n",
      "1\n"
     ]
    }
   ],
   "source": [
    "d = {(x, x + 1): x   for x in range(10)} # Create a dictionary with tuple keys\n",
    "print(d)\n",
    "t = (5, 6) # a tuple\n",
    "print(t)\n",
    "print(type(t))\n",
    "print(d[t])\n",
    "print(d[(1, 2)])"
   ]
  },
  {
   "cell_type": "markdown",
   "metadata": {},
   "source": [
    "## Iteration"
   ]
  },
  {
   "cell_type": "code",
   "execution_count": 25,
   "metadata": {},
   "outputs": [
    {
     "name": "stdout",
     "output_type": "stream",
     "text": [
      "The Effective Engineer\n",
      "The 4 hours work week\n",
      "Zero to One\n",
      "Lean Startup\n",
      "Hooked\n",
      "My %s is %s\n",
      "My %s is %s\n",
      "My %s is %s\n",
      "My %s is %s\n"
     ]
    }
   ],
   "source": [
    "bookshelf = [\n",
    "  \"The Effective Engineer\",\n",
    "  \"The 4 hours work week\",\n",
    "  \"Zero to One\",\n",
    "  \"Lean Startup\",\n",
    "  \"Hooked\"\n",
    "]\n",
    "\n",
    "for book in bookshelf:\n",
    "    print(book)\n",
    "    \n",
    "for attribute, value in dictionary_bh.items():\n",
    "    print(\"My %s is %s\" %(attribute, value))"
   ]
  },
  {
   "cell_type": "markdown",
   "metadata": {},
   "source": [
    "## class&object"
   ]
  },
  {
   "cell_type": "code",
   "execution_count": 40,
   "metadata": {},
   "outputs": [
    {
     "name": "stdout",
     "output_type": "stream",
     "text": [
      "<__main__.Vehicle object at 0x7f6b8c1d5860>\n",
      "4\n",
      "2\n",
      "VRUUUUUUUUM\n"
     ]
    }
   ],
   "source": [
    "class Vehicle:\n",
    "    pass\n",
    "\n",
    "car = Vehicle()\n",
    "print(car)\n",
    "\n",
    "class Vehicle:\n",
    "    def __init__(self, number_of_wheels, type_of_tank, seating_capacity, maximum_velocity):\n",
    "        self.number_of_wheels = number_of_wheels\n",
    "        self.type_of_tank = type_of_tank\n",
    "        self.seating_capacity = seating_capacity\n",
    "        self.maximum_velocity = maximum_velocity\n",
    "    \n",
    "    ## here the function name must same as the variable name, and use variable with '__', e.g.'__number_of_wheels'\n",
    "    @property    \n",
    "    def number_of_wheels(self):\n",
    "        return self.__number_of_wheels\n",
    "    \n",
    "    @number_of_wheels.setter\n",
    "    def number_of_wheels(self, number):\n",
    "        self.__number_of_wheels = number\n",
    "        \n",
    "    def make_noise(slef):\n",
    "        print('VRUUUUUUUUM')\n",
    "        \n",
    "tesla_model_s = Vehicle(4, 'electric', 5, 250)\n",
    "\n",
    "print(tesla_model_s.number_of_wheels)\n",
    "tesla_model_s.number_of_wheels = 2\n",
    "print(tesla_model_s.number_of_wheels)\n",
    "tesla_model_s.make_noise()"
   ]
  },
  {
   "cell_type": "markdown",
   "metadata": {},
   "source": [
    "### Encapsulation"
   ]
  },
  {
   "cell_type": "code",
   "execution_count": 45,
   "metadata": {},
   "outputs": [
    {
     "name": "stdout",
     "output_type": "stream",
     "text": [
      "BH\n",
      "BH\n",
      "Kaio\n"
     ]
    }
   ],
   "source": [
    "# public variable\n",
    "class Person:\n",
    "    def __init__(self, first_name):\n",
    "        self.first_name = first_name\n",
    "        \n",
    "bh = Person('BH')\n",
    "print(bh.first_name)\n",
    "\n",
    "class Person:\n",
    "    first_name = 'BH'\n",
    "    \n",
    "bh = Person()\n",
    "print(bh.first_name)\n",
    "bh.first_name = 'Kaio'\n",
    "print(bh.first_name)"
   ]
  },
  {
   "cell_type": "code",
   "execution_count": 53,
   "metadata": {},
   "outputs": [
    {
     "name": "stdout",
     "output_type": "stream",
     "text": [
      "bh@mail.com\n",
      "bh@mail.com\n",
      "new_bh@mail.com\n"
     ]
    }
   ],
   "source": [
    "# non-public variable use '-' before the variable, we can access non-public variable, \n",
    "# but as convention, we treat it as non-public variables \n",
    "class Person:\n",
    "    def __init__(self, first_name, email):\n",
    "        self.first_name = first_name\n",
    "        self._email = email\n",
    "    def update_email(self, new_email):\n",
    "        self._email = new_email\n",
    "\n",
    "    def email(self):\n",
    "        return self._email\n",
    "    \n",
    "        \n",
    "bh = Person('BH','bh@mail.com')\n",
    "print(bh._email)\n",
    "print(bh.email())\n",
    "bh.update_email('new_bh@mail.com')\n",
    "print(bh.email())"
   ]
  },
  {
   "cell_type": "code",
   "execution_count": 57,
   "metadata": {},
   "outputs": [
    {
     "name": "stdout",
     "output_type": "stream",
     "text": [
      "26\n"
     ]
    }
   ],
   "source": [
    "# public method\n",
    "class Person:\n",
    "    def __init__(self, first_name, age):\n",
    "        self.first_name = first_name\n",
    "        self.age = age\n",
    "    \n",
    "    def show_age(self):\n",
    "        return self.age\n",
    "    \n",
    "bh = Person('BH', 26)\n",
    "print(bh.show_age())"
   ]
  },
  {
   "cell_type": "code",
   "execution_count": 60,
   "metadata": {},
   "outputs": [
    {
     "name": "stdout",
     "output_type": "stream",
     "text": [
      "26\n",
      "26\n"
     ]
    }
   ],
   "source": [
    "# no-public method\n",
    "class Person:\n",
    "    def __init__(self, first_name, age):\n",
    "        self.first_name = first_name\n",
    "        self.age = age\n",
    "    \n",
    "    def show_age(self):\n",
    "        return self._get_age()\n",
    "    \n",
    "    def _get_age(self):\n",
    "        return self.age\n",
    "    \n",
    "bh = Person('BH', 26)\n",
    "print(bh._get_age())\n",
    "print(bh.show_age())"
   ]
  },
  {
   "cell_type": "markdown",
   "metadata": {},
   "source": [
    "### Inheritance"
   ]
  },
  {
   "cell_type": "code",
   "execution_count": 1,
   "metadata": {
    "scrolled": true
   },
   "outputs": [
    {
     "name": "stdout",
     "output_type": "stream",
     "text": [
      "4\n",
      "5\n",
      "250\n"
     ]
    }
   ],
   "source": [
    "class Car:\n",
    "    def __init__(self, number_of_wheels, seating_capacity, maximum_velocity):\n",
    "        self.number_of_wheels = number_of_wheels\n",
    "        self.seating_capacity = seating_capacity\n",
    "        self.maximum_velocity = maximum_velocity\n",
    "    \n",
    "    \n",
    "my_car = Car(4, 5, 250)\n",
    "print(my_car.number_of_wheels)\n",
    "print(my_car.seating_capacity)\n",
    "print(my_car.maximum_velocity)"
   ]
  },
  {
   "cell_type": "code",
   "execution_count": 2,
   "metadata": {},
   "outputs": [
    {
     "name": "stdout",
     "output_type": "stream",
     "text": [
      "4\n",
      "5\n",
      "250\n",
      "90\n"
     ]
    }
   ],
   "source": [
    "class ElectricCar(Car):\n",
    "    def __init__(self, power = 100, *args, **kwargs):\n",
    "        Car.__init__(self, *args, **kwargs)\n",
    "        self.power = power\n",
    "\n",
    "my_electric_car = ElectricCar(90, 4, 5, 250)\n",
    "print(my_electric_car.number_of_wheels)\n",
    "print(my_electric_car.seating_capacity)\n",
    "print(my_electric_car.maximum_velocity)\n",
    "\n",
    "print(my_electric_car.power)"
   ]
  },
  {
   "cell_type": "markdown",
   "metadata": {},
   "source": [
    "## Copy"
   ]
  },
  {
   "cell_type": "code",
   "execution_count": 3,
   "metadata": {},
   "outputs": [
    {
     "name": "stdout",
     "output_type": "stream",
     "text": [
      "[1, [1, 2, 3], 3, 4]\n",
      "[1, [1, 2, 3], 3, 4]\n",
      "[1, [1, 2, 3], 3]\n",
      "[1, [1, 2], 3]\n"
     ]
    }
   ],
   "source": [
    "import copy   \n",
    "a = [1, [1,2], 3 ]   \n",
    "b = a                \n",
    "c = copy.copy(a)      #shallow copy\n",
    "d = copy.deepcopy(a)  #dee pcopy\n",
    "\n",
    "a.append(4)    \n",
    "a[1].append(3)   \n",
    "\n",
    "print(a)   #[1, [1,2,3], 3, 4]  \n",
    "print(b)   #[1, [1,2,3], 3, 4]  \n",
    "print(c)   #[1, [1,2,3], 3] \n",
    "print(d)   #[1, [1,2], 3]   \n"
   ]
  },
  {
   "cell_type": "code",
   "execution_count": 14,
   "metadata": {},
   "outputs": [
    {
     "name": "stdout",
     "output_type": "stream",
     "text": [
      "x =  [1, 2, 3, 77]\n",
      "x =  [1, 2, 3, 77]\n",
      "x =  [1, 2, 3]\n"
     ]
    }
   ],
   "source": [
    "class Test:\n",
    "    def __init__(self):\n",
    "        self.x = [1,2,3]\n",
    "        \n",
    "    def show(self):\n",
    "        print(\"x = \", self.x)\n",
    "        \n",
    "    def append_x(self, input):\n",
    "        self.x.append(input)\n",
    "        \n",
    "a = Test()\n",
    "b = copy.copy(a)\n",
    "c = copy.deepcopy(a)\n",
    "a.append_x(77)\n",
    "\n",
    "a.show()\n",
    "b.show()\n",
    "c.show()"
   ]
  },
  {
   "cell_type": "code",
   "execution_count": null,
   "metadata": {},
   "outputs": [],
   "source": []
  }
 ],
 "metadata": {
  "kernelspec": {
   "display_name": "Python 3",
   "language": "python",
   "name": "python3"
  },
  "language_info": {
   "codemirror_mode": {
    "name": "ipython",
    "version": 3
   },
   "file_extension": ".py",
   "mimetype": "text/x-python",
   "name": "python",
   "nbconvert_exporter": "python",
   "pygments_lexer": "ipython3",
   "version": "3.6.6"
  },
  "toc": {
   "base_numbering": 1,
   "nav_menu": {},
   "number_sections": true,
   "sideBar": true,
   "skip_h1_title": true,
   "title_cell": "Table of Contents",
   "title_sidebar": "Contents",
   "toc_cell": true,
   "toc_position": {},
   "toc_section_display": true,
   "toc_window_display": true
  }
 },
 "nbformat": 4,
 "nbformat_minor": 2
}
