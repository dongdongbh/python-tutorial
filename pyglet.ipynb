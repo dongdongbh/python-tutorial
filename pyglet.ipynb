{
 "cells": [
  {
   "cell_type": "markdown",
   "metadata": {},
   "source": [
    "# Pyglet \n",
    "Ref [doc](https://pyglet.readthedocs.io/en/pyglet-1.3-maintenance/)"
   ]
  },
  {
   "cell_type": "markdown",
   "metadata": {},
   "source": [
    "## basic"
   ]
  },
  {
   "cell_type": "markdown",
   "metadata": {},
   "source": [
    "### Hello world"
   ]
  },
  {
   "cell_type": "code",
   "execution_count": 5,
   "metadata": {},
   "outputs": [],
   "source": [
    "import pyglet"
   ]
  },
  {
   "cell_type": "code",
   "execution_count": 8,
   "metadata": {},
   "outputs": [],
   "source": [
    "window = pyglet.window.Window()\n",
    "label = pyglet.text.Label('Hello world',\n",
    "                         font_name='Times New Roman',\n",
    "                         font_size=36,\n",
    "                         x=window.width//2, y=window.height//2,\n",
    "                         anchor_x='center', anchor_y='center')\n",
    "\n",
    "\n",
    "@window.event\n",
    "def on_draw():\n",
    "    window.clear()\n",
    "    label.draw()"
   ]
  },
  {
   "cell_type": "code",
   "execution_count": 9,
   "metadata": {},
   "outputs": [],
   "source": [
    "pyglet.app.run()"
   ]
  },
  {
   "cell_type": "markdown",
   "metadata": {},
   "source": [
    "### Image viewer "
   ]
  },
  {
   "cell_type": "code",
   "execution_count": 19,
   "metadata": {},
   "outputs": [],
   "source": [
    "pyglet.resource.path = ['./assets']\n",
    "pyglet.resource.reindex()\n",
    "window = pyglet.window.Window()\n",
    "image = pyglet.resource.image('cat.jpg')\n",
    "\n",
    "@window.event\n",
    "def on_draw():\n",
    "    window.clear()\n",
    "    image.blit(0, 0)\n",
    "    \n",
    "pyglet.app.run()"
   ]
  },
  {
   "cell_type": "markdown",
   "metadata": {},
   "source": [
    "### mouse and keyboard events"
   ]
  },
  {
   "cell_type": "code",
   "execution_count": 35,
   "metadata": {},
   "outputs": [],
   "source": [
    "window = pyglet.window.Window()\n",
    "\n",
    "@window.event\n",
    "def on_key_press(symbol, modifiers):\n",
    "    print('A key was pressed')\n",
    "\n",
    "@window.event\n",
    "def  on_draw():\n",
    "    window.clear()\n",
    "    \n"
   ]
  },
  {
   "cell_type": "code",
   "execution_count": 36,
   "metadata": {},
   "outputs": [],
   "source": [
    "from pyglet.window import key\n",
    "\n",
    "@window.event\n",
    "def on_key_press(symbol, modifiers):\n",
    "    if symbol == key.A:\n",
    "        print('The \"A\" key was pressed')\n",
    "    elif symbol == key.LEFT:\n",
    "        print('The left arrow key was pressed')\n",
    "    elif symbol == key.ENTER:\n",
    "        print('The enter key was pressed')"
   ]
  },
  {
   "cell_type": "code",
   "execution_count": 37,
   "metadata": {},
   "outputs": [],
   "source": [
    "from pyglet.window import mouse\n",
    "\n",
    "@window.event\n",
    "def on_mouse_press(x, y, button, modifiers):\n",
    "    if button == mouse.LEFT:\n",
    "        print('The left mouse button was pressed')"
   ]
  },
  {
   "cell_type": "code",
   "execution_count": 38,
   "metadata": {},
   "outputs": [],
   "source": [
    "#window.push_handlers(pyglet.window.event.WindowEventLogger())\n",
    "pyglet.app.run()"
   ]
  },
  {
   "cell_type": "markdown",
   "metadata": {},
   "source": [
    "## Creating an OpenGL context "
   ]
  },
  {
   "cell_type": "markdown",
   "metadata": {},
   "source": [
    "###  Contexts and configs"
   ]
  },
  {
   "cell_type": "code",
   "execution_count": 41,
   "metadata": {},
   "outputs": [
    {
     "data": {
      "text/plain": [
       "1"
      ]
     },
     "execution_count": 41,
     "metadata": {},
     "output_type": "execute_result"
    }
   ],
   "source": [
    "window = pyglet.window.Window()\n",
    "context = window.context\n",
    "config = context.config\n",
    "config.double_buffer\n",
    "config.stereo\n",
    "config.sample_buffers"
   ]
  },
  {
   "cell_type": "markdown",
   "metadata": {},
   "source": [
    "### display"
   ]
  },
  {
   "cell_type": "code",
   "execution_count": 47,
   "metadata": {},
   "outputs": [],
   "source": [
    "platform = pyglet.window.get_platform()\n",
    "display = platform.get_default_display()"
   ]
  },
  {
   "cell_type": "markdown",
   "metadata": {},
   "source": [
    "###  screens"
   ]
  },
  {
   "cell_type": "code",
   "execution_count": 48,
   "metadata": {},
   "outputs": [
    {
     "name": "stdout",
     "output_type": "stream",
     "text": [
      "XlibScreen(display=<pyglet.canvas.xlib.XlibDisplay object at 0x7fd624511c88>, x=0, y=0, width=1920, height=1080, xinerama=1)\n",
      "XlibScreen(display=<pyglet.canvas.xlib.XlibDisplay object at 0x7fd624511c88>, x=1920, y=0, width=1920, height=1080, xinerama=1)\n"
     ]
    }
   ],
   "source": [
    "for screen in display.get_screens():\n",
    "    print(screen)"
   ]
  },
  {
   "cell_type": "markdown",
   "metadata": {},
   "source": [
    "###  Opengl config"
   ]
  },
  {
   "cell_type": "code",
   "execution_count": 50,
   "metadata": {},
   "outputs": [],
   "source": [
    "config = pyglet.gl.Config(alpha_size=8)\n",
    "window = pyglet.window.Window(config=config)"
   ]
  },
  {
   "cell_type": "code",
   "execution_count": 53,
   "metadata": {},
   "outputs": [],
   "source": [
    "platform = pyglet.window.get_platform()\n",
    "display = platform.get_default_display()\n",
    "screen = display.get_default_screen()\n",
    "\n",
    "template = pyglet.gl.Config(alpha=8)\n",
    "config = screen.get_best_config(template)\n",
    "context = config.create_context(None)\n",
    "window = pyglet.window.Window(context=context)"
   ]
  },
  {
   "cell_type": "markdown",
   "metadata": {},
   "source": [
    "## Graphics"
   ]
  },
  {
   "cell_type": "markdown",
   "metadata": {},
   "source": [
    "### Drawing primitives \n",
    "* pyglet.gl.GL_POINTS\n",
    "* pyglet.gl.GL_LINES\n",
    "* pyglet.gl.GL_LINE_LOOP\n",
    "* pyglet.gl.GL_LINE_STRIP\n",
    "* pyglet.gl.GL_TRIANGLES\n",
    "* pyglet.gl.GL_TRIANGLE_STRIP\n",
    "* pyglet.gl.GL_TRIANGLE_FAN\n",
    "* pyglet.gl.GL_QUADS\n",
    "* pyglet.gl.GL_QUAD_STRIP\n",
    "* pyglet.gl.GL_POLYGON"
   ]
  },
  {
   "cell_type": "code",
   "execution_count": 8,
   "metadata": {},
   "outputs": [],
   "source": [
    "window = pyglet.window.Window(fullscreen=True)\n",
    "\n",
    "\n",
    "pyglet.graphics.draw(2, pyglet.gl.GL_POINTS, \n",
    "                    ('v2i', (10, 15, 30, 35))\n",
    "                    )\n",
    "\n",
    "pyglet.graphics.draw(2, pyglet.gl.GL_POINTS,\n",
    "    ('v3f', (10.0, 15.0, 0.0, 30.0, 35.0, 0.0))\n",
    ")\n",
    "\n",
    "pyglet.graphics.draw_indexed(4, pyglet.gl.GL_TRIANGLES,\n",
    "    [0, 1, 2, 0, 2, 3],\n",
    "    ('v2i', (100, 100,\n",
    "             150, 100,\n",
    "             150, 150,\n",
    "             100, 150))\n",
    ")"
   ]
  },
  {
   "cell_type": "markdown",
   "metadata": {},
   "source": [
    "## window"
   ]
  },
  {
   "cell_type": "code",
   "execution_count": 1,
   "metadata": {
    "collapsed": true
   },
   "outputs": [
    {
     "name": "stdout",
     "output_type": "stream",
     "text": [
      "The window was resized to 1280 x 720\n",
      "The window was resized to 1280 x 720\n",
      "The window was resized to 1024 x 720\n",
      "The window was resized to 1024 x 721\n",
      "The window was resized to 1024 x 723\n",
      "The window was resized to 1024 x 724\n",
      "The window was resized to 1024 x 723\n",
      "The window was resized to 1024 x 721\n",
      "The window was resized to 1024 x 707\n",
      "The window was resized to 1024 x 702\n",
      "The window was resized to 1024 x 696\n",
      "The window was resized to 1024 x 686\n",
      "The window was resized to 1024 x 676\n",
      "The window was resized to 1024 x 667\n",
      "The window was resized to 1024 x 662\n",
      "The window was resized to 1024 x 655\n",
      "The window was resized to 1024 x 653\n",
      "The window was resized to 1024 x 648\n",
      "The window was resized to 1024 x 644\n",
      "The window was resized to 1024 x 642\n",
      "The window was resized to 1024 x 638\n",
      "The window was resized to 1024 x 631\n",
      "The window was resized to 1024 x 628\n",
      "The window was resized to 1024 x 621\n",
      "The window was resized to 1024 x 609\n",
      "The window was resized to 1024 x 591\n",
      "The window was resized to 1024 x 573\n",
      "The window was resized to 1024 x 563\n",
      "The window was resized to 1008 x 543\n",
      "The window was resized to 987 x 530\n",
      "The window was resized to 970 x 518\n",
      "The window was resized to 946 x 501\n",
      "The window was resized to 931 x 489\n",
      "The window was resized to 916 x 477\n",
      "The window was resized to 910 x 471\n",
      "The window was resized to 897 x 462\n",
      "The window was resized to 891 x 456\n",
      "The window was resized to 888 x 453\n",
      "The window was resized to 886 x 451\n",
      "The window was resized to 885 x 450\n",
      "The window was resized to 886 x 452\n",
      "The window was resized to 888 x 455\n",
      "The window was resized to 897 x 469\n",
      "The window was resized to 928 x 502\n",
      "The window was resized to 956 x 523\n",
      "The window was resized to 988 x 545\n",
      "The window was resized to 1001 x 555\n",
      "The window was resized to 1024 x 569\n",
      "The window was resized to 1024 x 584\n",
      "The window was resized to 1024 x 596\n",
      "The window was resized to 1024 x 611\n",
      "The window was resized to 1024 x 613\n"
     ]
    }
   ],
   "source": [
    "import pyglet\n",
    "\n",
    "\n",
    "pyglet.resource.path = ['./assets']\n",
    "pyglet.resource.reindex()\n",
    "\n",
    "window = pyglet.window.Window(1280, 720,resizable=True,caption='Initial caption')\n",
    "window.set_minimum_size(320, 200)\n",
    "window.set_maximum_size(1024, 768)\n",
    "window.set_size(1280, 720)\n",
    "\n",
    "window.set_caption('A different caption')\n",
    "\n",
    "icon = pyglet.image.load('./assets/favicon.ico')\n",
    "\n",
    "window.set_icon(icon)\n",
    "\n",
    "@window.event\n",
    "def on_resize(width, height):\n",
    "    print ('The window was resized to %d x %d' % (width, height))\n",
    "    \n",
    "    \n"
   ]
  },
  {
   "cell_type": "code",
   "execution_count": 2,
   "metadata": {},
   "outputs": [],
   "source": [
    "class HelloWorldWindow(pyglet.window.Window):\n",
    "    def __init__(self):\n",
    "        super(HelloWorldWindow, self).__init__()\n",
    "\n",
    "        self.label = pyglet.text.Label('Hello, world!')\n",
    "\n",
    "    def on_draw(self):\n",
    "        self.clear()\n",
    "        self.label.draw()"
   ]
  },
  {
   "cell_type": "code",
   "execution_count": 3,
   "metadata": {},
   "outputs": [],
   "source": [
    "if __name__ == '__main__':\n",
    "    window = HelloWorldWindow()\n",
    "    pyglet.app.run()"
   ]
  },
  {
   "cell_type": "markdown",
   "metadata": {},
   "source": [
    "## write a game"
   ]
  },
  {
   "cell_type": "markdown",
   "metadata": {},
   "source": [
    "### creat a window"
   ]
  },
  {
   "cell_type": "code",
   "execution_count": 22,
   "metadata": {},
   "outputs": [],
   "source": [
    "import pyglet\n",
    "\n",
    "game_window = pyglet.window.Window()"
   ]
  },
  {
   "cell_type": "markdown",
   "metadata": {},
   "source": [
    "### load image"
   ]
  },
  {
   "cell_type": "code",
   "execution_count": 23,
   "metadata": {},
   "outputs": [],
   "source": [
    "pyglet.resource.path = ['./game/resources']\n",
    "pyglet.resource.reindex()\n",
    "\n",
    "player_image = pyglet.resource.image(\"player.png\")\n",
    "bullet_image = pyglet.resource.image(\"bullet.png\")\n",
    "asteroid_image = pyglet.resource.image(\"asteroid.png\")"
   ]
  },
  {
   "cell_type": "markdown",
   "metadata": {},
   "source": [
    "### centering  the images"
   ]
  },
  {
   "cell_type": "code",
   "execution_count": 24,
   "metadata": {},
   "outputs": [],
   "source": [
    "def center_image(image):\n",
    "    \n",
    "    image.anchor_x = image.width // 2\n",
    "    image.anchor_y = image.height // 2\n",
    "    \n",
    "center_image(player_image)\n",
    "center_image(bullet_image)\n",
    "center_image(asteroid_image)"
   ]
  },
  {
   "cell_type": "markdown",
   "metadata": {},
   "source": [
    "### lables"
   ]
  },
  {
   "cell_type": "code",
   "execution_count": 25,
   "metadata": {},
   "outputs": [],
   "source": [
    "score_label = pyglet.text.Label(text=\"Score: 0\", x=10, y=575)\n",
    "level_label = pyglet.text.Label(text=\"My Amazing Game\",\n",
    "                               x=400, y=575, anchor_x='center')\n",
    "\n",
    "@game_window.event\n",
    "def on_draw():\n",
    "    game_window.clear()\n",
    "\n",
    "    level_label.draw()\n",
    "    score_label.draw()"
   ]
  },
  {
   "cell_type": "code",
   "execution_count": null,
   "metadata": {},
   "outputs": [],
   "source": []
  },
  {
   "cell_type": "code",
   "execution_count": null,
   "metadata": {},
   "outputs": [],
   "source": []
  },
  {
   "cell_type": "code",
   "execution_count": null,
   "metadata": {},
   "outputs": [],
   "source": []
  },
  {
   "cell_type": "code",
   "execution_count": 26,
   "metadata": {},
   "outputs": [],
   "source": [
    "if __name__ == '__main__':\n",
    "    pyglet.app.run()"
   ]
  },
  {
   "cell_type": "code",
   "execution_count": null,
   "metadata": {},
   "outputs": [],
   "source": []
  },
  {
   "cell_type": "code",
   "execution_count": null,
   "metadata": {},
   "outputs": [],
   "source": []
  },
  {
   "cell_type": "code",
   "execution_count": null,
   "metadata": {},
   "outputs": [],
   "source": []
  },
  {
   "cell_type": "code",
   "execution_count": null,
   "metadata": {},
   "outputs": [],
   "source": []
  },
  {
   "cell_type": "code",
   "execution_count": null,
   "metadata": {},
   "outputs": [],
   "source": []
  },
  {
   "cell_type": "code",
   "execution_count": null,
   "metadata": {},
   "outputs": [],
   "source": []
  },
  {
   "cell_type": "code",
   "execution_count": null,
   "metadata": {},
   "outputs": [],
   "source": []
  },
  {
   "cell_type": "code",
   "execution_count": null,
   "metadata": {},
   "outputs": [],
   "source": []
  },
  {
   "cell_type": "code",
   "execution_count": null,
   "metadata": {},
   "outputs": [],
   "source": []
  },
  {
   "cell_type": "code",
   "execution_count": null,
   "metadata": {},
   "outputs": [],
   "source": []
  },
  {
   "cell_type": "code",
   "execution_count": null,
   "metadata": {},
   "outputs": [],
   "source": []
  },
  {
   "cell_type": "code",
   "execution_count": null,
   "metadata": {},
   "outputs": [],
   "source": []
  },
  {
   "cell_type": "code",
   "execution_count": null,
   "metadata": {},
   "outputs": [],
   "source": []
  },
  {
   "cell_type": "code",
   "execution_count": null,
   "metadata": {},
   "outputs": [],
   "source": []
  },
  {
   "cell_type": "code",
   "execution_count": null,
   "metadata": {},
   "outputs": [],
   "source": []
  },
  {
   "cell_type": "code",
   "execution_count": null,
   "metadata": {},
   "outputs": [],
   "source": []
  },
  {
   "cell_type": "code",
   "execution_count": null,
   "metadata": {},
   "outputs": [],
   "source": []
  },
  {
   "cell_type": "code",
   "execution_count": null,
   "metadata": {},
   "outputs": [],
   "source": []
  },
  {
   "cell_type": "code",
   "execution_count": null,
   "metadata": {},
   "outputs": [],
   "source": []
  },
  {
   "cell_type": "code",
   "execution_count": null,
   "metadata": {},
   "outputs": [],
   "source": []
  },
  {
   "cell_type": "code",
   "execution_count": null,
   "metadata": {},
   "outputs": [],
   "source": []
  },
  {
   "cell_type": "code",
   "execution_count": null,
   "metadata": {},
   "outputs": [],
   "source": []
  }
 ],
 "metadata": {
  "kernelspec": {
   "display_name": "Python 3",
   "language": "python",
   "name": "python3"
  },
  "language_info": {
   "codemirror_mode": {
    "name": "ipython",
    "version": 3
   },
   "file_extension": ".py",
   "mimetype": "text/x-python",
   "name": "python",
   "nbconvert_exporter": "python",
   "pygments_lexer": "ipython3",
   "version": "3.6.6"
  },
  "toc": {
   "base_numbering": 1,
   "nav_menu": {},
   "number_sections": true,
   "sideBar": true,
   "skip_h1_title": true,
   "title_cell": "Table of Contents",
   "title_sidebar": "Contents",
   "toc_cell": false,
   "toc_position": {},
   "toc_section_display": true,
   "toc_window_display": false
  }
 },
 "nbformat": 4,
 "nbformat_minor": 2
}
