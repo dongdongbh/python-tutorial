{
 "cells": [
  {
   "cell_type": "markdown",
   "metadata": {},
   "source": [
    "# understanding _ in python"
   ]
  },
  {
   "cell_type": "markdown",
   "metadata": {},
   "source": [
    "### There are 5 cases for using the underscore in Python.\n",
    "\n",
    "1. For storing the value of last expression in interpreter.\n",
    "2. For ignoring the specific values. (so-called “I don’t care”)\n",
    "3. To give special meanings and functions to name of vartiables or functions.\n",
    "4. To use as ‘Internationalization(i18n)’ or ‘Localization(l10n)’ functions.\n",
    "5. To separate the digits of number literal value."
   ]
  },
  {
   "cell_type": "markdown",
   "metadata": {},
   "source": [
    "### For Ignoring the values"
   ]
  },
  {
   "cell_type": "code",
   "execution_count": 7,
   "metadata": {
    "scrolled": true
   },
   "outputs": [
    {
     "name": "stdout",
     "output_type": "stream",
     "text": [
      "2\n",
      "[2, 3, 4]\n",
      "0123456789\n"
     ]
    }
   ],
   "source": [
    "x, _, y = (1,2,3)\n",
    "print(_)\n",
    "\n",
    "x,*_, y = (1,2,3,4,5)\n",
    "print(_)\n",
    "\n",
    "for _ in range(10):\n",
    "    print(_, end = '')\n",
    "    \n",
    "print('')\n"
   ]
  },
  {
   "cell_type": "markdown",
   "metadata": {},
   "source": [
    "### Give special meanings to name of variables and functions(e.g. for private stuff)"
   ]
  },
  {
   "cell_type": "code",
   "execution_count": null,
   "metadata": {},
   "outputs": [],
   "source": []
  }
 ],
 "metadata": {
  "kernelspec": {
   "display_name": "Python 3",
   "language": "python",
   "name": "python3"
  },
  "language_info": {
   "codemirror_mode": {
    "name": "ipython",
    "version": 3
   },
   "file_extension": ".py",
   "mimetype": "text/x-python",
   "name": "python",
   "nbconvert_exporter": "python",
   "pygments_lexer": "ipython3",
   "version": "3.6.6"
  }
 },
 "nbformat": 4,
 "nbformat_minor": 2
}
