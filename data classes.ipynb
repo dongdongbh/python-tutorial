{
 "cells": [
  {
   "cell_type": "markdown",
   "metadata": {},
   "source": [
    "# data classes"
   ]
  },
  {
   "cell_type": "markdown",
   "metadata": {},
   "source": [
    "### Default magic methods\n",
    "```__init__, __repr__, __str__ , __eq__```"
   ]
  },
  {
   "cell_type": "code",
   "execution_count": 6,
   "metadata": {},
   "outputs": [
    {
     "name": "stdout",
     "output_type": "stream",
     "text": [
      "SimpleDataObject(field_a=1, field_b='b')\n",
      "True\n",
      "SimpleDataObject(field_a='a', field_b='b')\n"
     ]
    }
   ],
   "source": [
    "from dataclasses import dataclass\n",
    "\n",
    "@dataclass\n",
    "class SimpleDataObject(object):\n",
    "    '''\n",
    "    In this case,\n",
    "  __init__, __repr__, __eq__,  will all be generated automatically.\n",
    "    '''\n",
    "    \n",
    "    field_a: int\n",
    "    field_b: str\n",
    "        \n",
    "example = SimpleDataObject(1,'b')\n",
    "print(example)\n",
    "\n",
    "example2 = SimpleDataObject(1, 'b')\n",
    "print(example == example2)\n",
    "\n",
    "\n",
    "example = SimpleDataObject('a', 'b')\n",
    "print(example)"
   ]
  },
  {
   "cell_type": "code",
   "execution_count": null,
   "metadata": {},
   "outputs": [],
   "source": []
  }
 ],
 "metadata": {
  "kernelspec": {
   "display_name": "Python 3",
   "language": "python",
   "name": "python3"
  },
  "language_info": {
   "codemirror_mode": {
    "name": "ipython",
    "version": 3
   },
   "file_extension": ".py",
   "mimetype": "text/x-python",
   "name": "python",
   "nbconvert_exporter": "python",
   "pygments_lexer": "ipython3",
   "version": "3.6.6"
  }
 },
 "nbformat": 4,
 "nbformat_minor": 2
}
