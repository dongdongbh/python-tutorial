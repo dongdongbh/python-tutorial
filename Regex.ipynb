{
 "cells": [
  {
   "cell_type": "markdown",
   "metadata": {},
   "source": [
    "# Regular Expression"
   ]
  },
  {
   "cell_type": "markdown",
   "metadata": {},
   "source": [
    "![Cheatsheet](Cheatsheet.png, \"Cheatsheet.png\")"
   ]
  },
  {
   "cell_type": "markdown",
   "metadata": {},
   "source": [
    "## Fuctions\n",
    "```\n",
    "re.search(pattern, string, flags=0)\n",
    "re.compile(pattern, flags=0)\n",
    "re.sub(pattern, repl, string, count=0, flags=0)\n",
    "re.escape(pattern)\n",
    "re.split(pattern, string, maxsplit=0, flags=0)\n",
    "re.findall(pattern, string, flags=0)\n",
    "re.finditer(pattern, string, flags=0)\n",
    "re.subn(pattern, repl, string, count=0, flags=0)\n",
    "```"
   ]
  },
  {
   "cell_type": "code",
   "execution_count": null,
   "metadata": {},
   "outputs": [],
   "source": []
  }
 ],
 "metadata": {
  "kernelspec": {
   "display_name": "Python 3",
   "language": "python",
   "name": "python3"
  },
  "language_info": {
   "codemirror_mode": {
    "name": "ipython",
    "version": 3
   },
   "file_extension": ".py",
   "mimetype": "text/x-python",
   "name": "python",
   "nbconvert_exporter": "python",
   "pygments_lexer": "ipython3",
   "version": "3.7.7"
  }
 },
 "nbformat": 4,
 "nbformat_minor": 4
}
